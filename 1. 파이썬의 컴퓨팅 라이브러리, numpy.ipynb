{
 "cells": [
  {
   "cell_type": "markdown",
   "metadata": {},
   "source": [
    "# 1. 파이썬의 컴퓨팅 라이브러리, numpy\n",
    "**numpy를 이용해서 데이터를 다뤄봅시다!**"
   ]
  },
  {
   "cell_type": "markdown",
   "metadata": {},
   "source": [
    "### Our Goal\n",
    "1. Numpy 시작하기\n",
    "    - prerequisite : Python의 List\n",
    "    - numpy import하기\n",
    "    - numpy.array\n",
    "\n",
    "2. Numpy로 연산하기\n",
    "    - Vector - Scalar : elementwise! (+, -, *, /)\n",
    "    - Vector - Vector : elementwise / broadcasting (+, -, *, /)\n",
    "    - Indexing & Slicing\n",
    "3. Example : Linear Algebra with Numpy\n",
    "    1. basics\n",
    "    - 영벡터 : `.zeros()`\n",
    "    - 일벡터 : `.ones()`\n",
    "    - 대각행렬 : `.diag()`\n",
    "    - 항등행렬 : `.eye()`\n",
    "    - 행렬곱 : `@` / `.dot()`\n",
    "  \n",
    "    2. furthermore\n",
    "    - 트레이스 : `.trace()`\n",
    "    - 행렬식 : `.linalg.det()`\n",
    "    - 역행렬 : `.linalg.inv()`\n",
    "    - 고유값 : `.linalg.eig()`\n"
   ]
  },
  {
   "cell_type": "markdown",
   "metadata": {},
   "source": [
    "## I. Numpy 시작하기"
   ]
  },
  {
   "cell_type": "code",
   "execution_count": 1,
   "metadata": {},
   "outputs": [],
   "source": [
    "import numpy as np"
   ]
  },
  {
   "cell_type": "markdown",
   "metadata": {},
   "source": [
    "## II. Numpy로 연산하기"
   ]
  },
  {
   "attachments": {},
   "cell_type": "markdown",
   "metadata": {},
   "source": [
    "### Vector와 Scala 간의 연산"
   ]
  },
  {
   "cell_type": "code",
   "execution_count": 3,
   "metadata": {},
   "outputs": [
    {
     "name": "stdout",
     "output_type": "stream",
     "text": [
      "더하기 : [6 7 8]\n",
      "빼기 : [-4 -3 -2]\n",
      "곱하기 : [ 5 10 15]\n",
      "나누기 : [0.2 0.4 0.6]\n"
     ]
    }
   ],
   "source": [
    "x=np.array([1,2,3])\n",
    "c=5\n",
    "\n",
    "print(\"더하기 : {}\".format(x+c))\n",
    "print(\"빼기 : {}\".format(x-c))\n",
    "print(\"곱하기 : {}\".format(x*c))\n",
    "print(\"나누기 : {}\".format(x/c))"
   ]
  },
  {
   "attachments": {},
   "cell_type": "markdown",
   "metadata": {},
   "source": [
    "### Vector와 Vector 간의 연산"
   ]
  },
  {
   "cell_type": "code",
   "execution_count": 7,
   "metadata": {},
   "outputs": [
    {
     "name": "stdout",
     "output_type": "stream",
     "text": [
      "더하기 : [ 3 12 25]\n",
      "빼기 : [ -1  -6 -15]\n",
      "곱하기 : [  2  27 100]\n",
      "나누기 : [0.5        0.33333333 0.25      ]\n"
     ]
    }
   ],
   "source": [
    "y=np.array([1,3,5])\n",
    "z=np.array([2,9,20])\n",
    "\n",
    "print(\"더하기 : {}\".format(y+z))\n",
    "print(\"빼기 : {}\".format(y-z))\n",
    "print(\"곱하기 : {}\".format(y*z))\n",
    "print(\"나누기 : {}\".format(y/z))"
   ]
  },
  {
   "cell_type": "markdown",
   "metadata": {},
   "source": [
    "### Array Indexing"
   ]
  },
  {
   "cell_type": "code",
   "execution_count": 17,
   "metadata": {},
   "outputs": [
    {
     "data": {
      "text/plain": [
       "7"
      ]
     },
     "execution_count": 17,
     "metadata": {},
     "output_type": "execute_result"
    }
   ],
   "source": [
    "w=np.array([[1, 2, 3, 4],[5, 6, 7, 8],[9, 10, 11, 12]])\n",
    "\n",
    "w[1, 2]"
   ]
  },
  {
   "cell_type": "markdown",
   "metadata": {},
   "source": [
    "### Array Slicing"
   ]
  },
  {
   "cell_type": "code",
   "execution_count": 28,
   "metadata": {},
   "outputs": [
    {
     "name": "stdout",
     "output_type": "stream",
     "text": [
      "[[ 2  3]\n",
      " [ 6  7]\n",
      " [10 11]]\n",
      "[[1 2 3 4]\n",
      " [5 6 7 8]]\n",
      "[[1 2 3 4]\n",
      " [5 6 7 8]]\n"
     ]
    }
   ],
   "source": [
    "w=np.array([[1, 2, 3, 4],[5, 6, 7, 8],[9, 10, 11, 12]])\n",
    "\n",
    "print(w[0:3, 1:3])\n",
    "print(w[0:2])\n",
    "print(w[0:2, :])"
   ]
  },
  {
   "cell_type": "markdown",
   "metadata": {},
   "source": [
    "### Numpy의 Broadcasting"
   ]
  },
  {
   "attachments": {},
   "cell_type": "markdown",
   "metadata": {},
   "source": [
    "### 1. M by N, M by 1"
   ]
  },
  {
   "cell_type": "code",
   "execution_count": 34,
   "metadata": {},
   "outputs": [
    {
     "name": "stdout",
     "output_type": "stream",
     "text": [
      "[[1 2 3]\n",
      " [5 6 7]\n",
      " [7 8 9]]\n"
     ]
    }
   ],
   "source": [
    "M=np.array([[1,2,3],[4,5,6],[7,8,9]])\n",
    "N=np.array([0,1,0])\n",
    "\n",
    "N=N[:, None]\n",
    "\n",
    "print(M+N)"
   ]
  },
  {
   "attachments": {},
   "cell_type": "markdown",
   "metadata": {},
   "source": [
    "### 2. M by N, 1 by N"
   ]
  },
  {
   "cell_type": "code",
   "execution_count": 35,
   "metadata": {},
   "outputs": [
    {
     "name": "stdout",
     "output_type": "stream",
     "text": [
      "[[ 0  2 -3]\n",
      " [ 0  5 -6]\n",
      " [ 0  8 -9]]\n"
     ]
    }
   ],
   "source": [
    "N=np.array([0,1,-1])\n",
    "\n",
    "print(M*N)"
   ]
  },
  {
   "attachments": {},
   "cell_type": "markdown",
   "metadata": {},
   "source": [
    "### 3. M by 1, 1 by N"
   ]
  },
  {
   "cell_type": "code",
   "execution_count": 36,
   "metadata": {},
   "outputs": [
    {
     "name": "stdout",
     "output_type": "stream",
     "text": [
      "[[ 3  1 -1]\n",
      " [ 4  2  0]\n",
      " [ 5  3  1]]\n"
     ]
    }
   ],
   "source": [
    "M=np.array([1,2,3])\n",
    "M=M[:, None]\n",
    "\n",
    "N=np.array([2,0,-2])\n",
    "\n",
    "print(M+N)"
   ]
  },
  {
   "cell_type": "markdown",
   "metadata": {},
   "source": [
    "## III. Numpy로 선형대수 지식 끼얹기"
   ]
  },
  {
   "cell_type": "markdown",
   "metadata": {},
   "source": [
    "### 영벡터"
   ]
  },
  {
   "cell_type": "code",
   "execution_count": 42,
   "metadata": {},
   "outputs": [
    {
     "data": {
      "text/plain": [
       "array([[[0., 0., 0.],\n",
       "        [0., 0., 0.]],\n",
       "\n",
       "       [[0., 0., 0.],\n",
       "        [0., 0., 0.]]])"
      ]
     },
     "execution_count": 42,
     "metadata": {},
     "output_type": "execute_result"
    }
   ],
   "source": [
    "np.zeros((2,2,3))"
   ]
  },
  {
   "cell_type": "markdown",
   "metadata": {},
   "source": [
    "### 일벡터"
   ]
  },
  {
   "cell_type": "code",
   "execution_count": 45,
   "metadata": {},
   "outputs": [
    {
     "data": {
      "text/plain": [
       "array([[[1., 1., 1., 1.],\n",
       "        [1., 1., 1., 1.],\n",
       "        [1., 1., 1., 1.]],\n",
       "\n",
       "       [[1., 1., 1., 1.],\n",
       "        [1., 1., 1., 1.],\n",
       "        [1., 1., 1., 1.]]])"
      ]
     },
     "execution_count": 45,
     "metadata": {},
     "output_type": "execute_result"
    }
   ],
   "source": [
    "np.ones((2,3,4))"
   ]
  },
  {
   "cell_type": "markdown",
   "metadata": {},
   "source": [
    "### 대각행렬"
   ]
  },
  {
   "cell_type": "code",
   "execution_count": 46,
   "metadata": {},
   "outputs": [
    {
     "data": {
      "text/plain": [
       "array([[2, 0],\n",
       "       [0, 4]])"
      ]
     },
     "execution_count": 46,
     "metadata": {},
     "output_type": "execute_result"
    }
   ],
   "source": [
    "np.diag((2,4))"
   ]
  },
  {
   "cell_type": "code",
   "execution_count": 47,
   "metadata": {},
   "outputs": [
    {
     "data": {
      "text/plain": [
       "array([[2, 0, 0],\n",
       "       [0, 4, 0],\n",
       "       [0, 0, 6]])"
      ]
     },
     "execution_count": 47,
     "metadata": {},
     "output_type": "execute_result"
    }
   ],
   "source": [
    "np.diag((2,4,6))"
   ]
  },
  {
   "cell_type": "markdown",
   "metadata": {},
   "source": [
    "### 항등행렬"
   ]
  },
  {
   "cell_type": "code",
   "execution_count": 52,
   "metadata": {},
   "outputs": [
    {
     "data": {
      "text/plain": [
       "array([[1, 0],\n",
       "       [0, 1]])"
      ]
     },
     "execution_count": 52,
     "metadata": {},
     "output_type": "execute_result"
    }
   ],
   "source": [
    "np.eye(2, dtype=int)"
   ]
  },
  {
   "cell_type": "code",
   "execution_count": 53,
   "metadata": {},
   "outputs": [
    {
     "data": {
      "text/plain": [
       "array([[1., 0., 0., 0.],\n",
       "       [0., 1., 0., 0.],\n",
       "       [0., 0., 1., 0.],\n",
       "       [0., 0., 0., 1.]])"
      ]
     },
     "execution_count": 53,
     "metadata": {},
     "output_type": "execute_result"
    }
   ],
   "source": [
    "np.eye(4, dtype=float)"
   ]
  },
  {
   "cell_type": "markdown",
   "metadata": {},
   "source": [
    "### 행렬곱"
   ]
  },
  {
   "cell_type": "code",
   "execution_count": 57,
   "metadata": {},
   "outputs": [
    {
     "name": "stdout",
     "output_type": "stream",
     "text": [
      "[[ 7 33]\n",
      " [14 36]]\n",
      "[[ 7 33]\n",
      " [14 36]]\n"
     ]
    }
   ],
   "source": [
    "mat_1=np.array([[1,4],[2,3]])\n",
    "mat_2=np.array([[7,9],[0,6]])\n",
    "\n",
    "print(mat_1.dot(mat_2))\n",
    "print(mat_1 @ mat_2)"
   ]
  },
  {
   "cell_type": "markdown",
   "metadata": {},
   "source": [
    "## IV. Exercises"
   ]
  },
  {
   "cell_type": "markdown",
   "metadata": {},
   "source": [
    "### 1. 어떤 벡터가 주어졌을 때 L2 norm을 구하는 함수 `get_L2_norm()`을 작성하세요\n",
    "\n",
    "- **매개변수** : 1차원 벡터 (`np.array`)\n",
    "- **반환값** : 인자로 주어진 벡터의 L2 Norm값 (`number`)"
   ]
  },
  {
   "cell_type": "code",
   "execution_count": null,
   "metadata": {},
   "outputs": [],
   "source": []
  },
  {
   "cell_type": "markdown",
   "metadata": {},
   "source": [
    "### 2. 어떤 행렬이 singular matrix인지 확인하는 함수 `is_singular()` 를 작성하세요\n",
    "\n",
    "- 매개변수 : 2차원 벡터(`np.array`)\n",
    "- 반환값 : 인자로 주어진 벡터가 singular하면 True, non-singular하면 False를 반환 "
   ]
  },
  {
   "cell_type": "code",
   "execution_count": null,
   "metadata": {},
   "outputs": [],
   "source": []
  }
 ],
 "metadata": {
  "kernelspec": {
   "display_name": "Python 3",
   "language": "python",
   "name": "python3"
  },
  "language_info": {
   "codemirror_mode": {
    "name": "ipython",
    "version": 3
   },
   "file_extension": ".py",
   "mimetype": "text/x-python",
   "name": "python",
   "nbconvert_exporter": "python",
   "pygments_lexer": "ipython3",
   "version": "3.9.7"
  }
 },
 "nbformat": 4,
 "nbformat_minor": 4
}
